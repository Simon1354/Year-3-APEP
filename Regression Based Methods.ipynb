{
 "cells": [
  {
   "cell_type": "code",
   "execution_count": 1,
   "id": "4b32eccd",
   "metadata": {},
   "outputs": [],
   "source": [
    "import pandas as pd\n",
    "import numpy as np\n",
    "from sklearn import model_selection\n",
    "from sklearn.linear_model import LinearRegression\n",
    "from sklearn.linear_model import Ridge\n",
    "from sklearn.linear_model import LassoCV, Lasso\n",
    "from sklearn.linear_model import ElasticNetCV, ElasticNet\n",
    "from sklearn.metrics import r2_score\n",
    "from sklearn.metrics import mean_squared_error\n",
    "from sklearn.preprocessing import MinMaxScaler\n",
    "from yellowbrick.regressor import ManualAlphaSelection, AlphaSelection"
   ]
  },
  {
   "cell_type": "markdown",
   "id": "fcc01936",
   "metadata": {},
   "source": [
    "Data preprocessing and one-hot encoding as described in Neural Network Development"
   ]
  },
  {
   "cell_type": "code",
   "execution_count": 2,
   "id": "10bbf40c",
   "metadata": {},
   "outputs": [
    {
     "name": "stdout",
     "output_type": "stream",
     "text": [
      "(1228, 16)\n"
     ]
    },
    {
     "data": {
      "text/html": [
       "<div>\n",
       "<style scoped>\n",
       "    .dataframe tbody tr th:only-of-type {\n",
       "        vertical-align: middle;\n",
       "    }\n",
       "\n",
       "    .dataframe tbody tr th {\n",
       "        vertical-align: top;\n",
       "    }\n",
       "\n",
       "    .dataframe thead th {\n",
       "        text-align: right;\n",
       "    }\n",
       "</style>\n",
       "<table border=\"1\" class=\"dataframe\">\n",
       "  <thead>\n",
       "    <tr style=\"text-align: right;\">\n",
       "      <th></th>\n",
       "      <th>Dose</th>\n",
       "      <th>SF</th>\n",
       "      <th>FIB10</th>\n",
       "      <th>Fib34(a)</th>\n",
       "      <th>Fib34(b)</th>\n",
       "      <th>Fib34(c)</th>\n",
       "      <th>Fib31</th>\n",
       "      <th>FAN1</th>\n",
       "      <th>FAN2</th>\n",
       "      <th>G36</th>\n",
       "      <th>EBF</th>\n",
       "      <th>HF4 p4.1</th>\n",
       "      <th>HF491</th>\n",
       "      <th>HF691</th>\n",
       "      <th>HDR</th>\n",
       "      <th>LDR</th>\n",
       "    </tr>\n",
       "  </thead>\n",
       "  <tbody>\n",
       "    <tr>\n",
       "      <th>count</th>\n",
       "      <td>1228.000000</td>\n",
       "      <td>1228.000000</td>\n",
       "      <td>1228.000000</td>\n",
       "      <td>1228.000000</td>\n",
       "      <td>1228.000000</td>\n",
       "      <td>1228.000000</td>\n",
       "      <td>1228.000000</td>\n",
       "      <td>1228.000000</td>\n",
       "      <td>1228.000000</td>\n",
       "      <td>1228.000000</td>\n",
       "      <td>1228.000000</td>\n",
       "      <td>1228.000000</td>\n",
       "      <td>1228.000000</td>\n",
       "      <td>1228.000000</td>\n",
       "      <td>1228.000000</td>\n",
       "      <td>1228.000000</td>\n",
       "    </tr>\n",
       "    <tr>\n",
       "      <th>mean</th>\n",
       "      <td>3.656694</td>\n",
       "      <td>0.275306</td>\n",
       "      <td>0.173453</td>\n",
       "      <td>0.223941</td>\n",
       "      <td>0.122150</td>\n",
       "      <td>0.087948</td>\n",
       "      <td>0.085505</td>\n",
       "      <td>0.026873</td>\n",
       "      <td>0.105049</td>\n",
       "      <td>0.051303</td>\n",
       "      <td>0.038274</td>\n",
       "      <td>0.024430</td>\n",
       "      <td>0.024430</td>\n",
       "      <td>0.036645</td>\n",
       "      <td>0.621336</td>\n",
       "      <td>0.378664</td>\n",
       "    </tr>\n",
       "    <tr>\n",
       "      <th>std</th>\n",
       "      <td>2.768387</td>\n",
       "      <td>0.389201</td>\n",
       "      <td>0.378792</td>\n",
       "      <td>0.417053</td>\n",
       "      <td>0.327592</td>\n",
       "      <td>0.283334</td>\n",
       "      <td>0.279745</td>\n",
       "      <td>0.161778</td>\n",
       "      <td>0.306741</td>\n",
       "      <td>0.220705</td>\n",
       "      <td>0.191934</td>\n",
       "      <td>0.154443</td>\n",
       "      <td>0.154443</td>\n",
       "      <td>0.187965</td>\n",
       "      <td>0.485252</td>\n",
       "      <td>0.485252</td>\n",
       "    </tr>\n",
       "    <tr>\n",
       "      <th>min</th>\n",
       "      <td>0.000000</td>\n",
       "      <td>0.000000</td>\n",
       "      <td>0.000000</td>\n",
       "      <td>0.000000</td>\n",
       "      <td>0.000000</td>\n",
       "      <td>0.000000</td>\n",
       "      <td>0.000000</td>\n",
       "      <td>0.000000</td>\n",
       "      <td>0.000000</td>\n",
       "      <td>0.000000</td>\n",
       "      <td>0.000000</td>\n",
       "      <td>0.000000</td>\n",
       "      <td>0.000000</td>\n",
       "      <td>0.000000</td>\n",
       "      <td>0.000000</td>\n",
       "      <td>0.000000</td>\n",
       "    </tr>\n",
       "    <tr>\n",
       "      <th>25%</th>\n",
       "      <td>1.000000</td>\n",
       "      <td>0.004882</td>\n",
       "      <td>0.000000</td>\n",
       "      <td>0.000000</td>\n",
       "      <td>0.000000</td>\n",
       "      <td>0.000000</td>\n",
       "      <td>0.000000</td>\n",
       "      <td>0.000000</td>\n",
       "      <td>0.000000</td>\n",
       "      <td>0.000000</td>\n",
       "      <td>0.000000</td>\n",
       "      <td>0.000000</td>\n",
       "      <td>0.000000</td>\n",
       "      <td>0.000000</td>\n",
       "      <td>0.000000</td>\n",
       "      <td>0.000000</td>\n",
       "    </tr>\n",
       "    <tr>\n",
       "      <th>50%</th>\n",
       "      <td>3.110000</td>\n",
       "      <td>0.068395</td>\n",
       "      <td>0.000000</td>\n",
       "      <td>0.000000</td>\n",
       "      <td>0.000000</td>\n",
       "      <td>0.000000</td>\n",
       "      <td>0.000000</td>\n",
       "      <td>0.000000</td>\n",
       "      <td>0.000000</td>\n",
       "      <td>0.000000</td>\n",
       "      <td>0.000000</td>\n",
       "      <td>0.000000</td>\n",
       "      <td>0.000000</td>\n",
       "      <td>0.000000</td>\n",
       "      <td>1.000000</td>\n",
       "      <td>0.000000</td>\n",
       "    </tr>\n",
       "    <tr>\n",
       "      <th>75%</th>\n",
       "      <td>6.000000</td>\n",
       "      <td>0.447917</td>\n",
       "      <td>0.000000</td>\n",
       "      <td>0.000000</td>\n",
       "      <td>0.000000</td>\n",
       "      <td>0.000000</td>\n",
       "      <td>0.000000</td>\n",
       "      <td>0.000000</td>\n",
       "      <td>0.000000</td>\n",
       "      <td>0.000000</td>\n",
       "      <td>0.000000</td>\n",
       "      <td>0.000000</td>\n",
       "      <td>0.000000</td>\n",
       "      <td>0.000000</td>\n",
       "      <td>1.000000</td>\n",
       "      <td>1.000000</td>\n",
       "    </tr>\n",
       "    <tr>\n",
       "      <th>max</th>\n",
       "      <td>10.900000</td>\n",
       "      <td>1.775457</td>\n",
       "      <td>1.000000</td>\n",
       "      <td>1.000000</td>\n",
       "      <td>1.000000</td>\n",
       "      <td>1.000000</td>\n",
       "      <td>1.000000</td>\n",
       "      <td>1.000000</td>\n",
       "      <td>1.000000</td>\n",
       "      <td>1.000000</td>\n",
       "      <td>1.000000</td>\n",
       "      <td>1.000000</td>\n",
       "      <td>1.000000</td>\n",
       "      <td>1.000000</td>\n",
       "      <td>1.000000</td>\n",
       "      <td>1.000000</td>\n",
       "    </tr>\n",
       "  </tbody>\n",
       "</table>\n",
       "</div>"
      ],
      "text/plain": [
       "              Dose           SF        FIB10     Fib34(a)     Fib34(b)  \\\n",
       "count  1228.000000  1228.000000  1228.000000  1228.000000  1228.000000   \n",
       "mean      3.656694     0.275306     0.173453     0.223941     0.122150   \n",
       "std       2.768387     0.389201     0.378792     0.417053     0.327592   \n",
       "min       0.000000     0.000000     0.000000     0.000000     0.000000   \n",
       "25%       1.000000     0.004882     0.000000     0.000000     0.000000   \n",
       "50%       3.110000     0.068395     0.000000     0.000000     0.000000   \n",
       "75%       6.000000     0.447917     0.000000     0.000000     0.000000   \n",
       "max      10.900000     1.775457     1.000000     1.000000     1.000000   \n",
       "\n",
       "          Fib34(c)        Fib31         FAN1         FAN2          G36  \\\n",
       "count  1228.000000  1228.000000  1228.000000  1228.000000  1228.000000   \n",
       "mean      0.087948     0.085505     0.026873     0.105049     0.051303   \n",
       "std       0.283334     0.279745     0.161778     0.306741     0.220705   \n",
       "min       0.000000     0.000000     0.000000     0.000000     0.000000   \n",
       "25%       0.000000     0.000000     0.000000     0.000000     0.000000   \n",
       "50%       0.000000     0.000000     0.000000     0.000000     0.000000   \n",
       "75%       0.000000     0.000000     0.000000     0.000000     0.000000   \n",
       "max       1.000000     1.000000     1.000000     1.000000     1.000000   \n",
       "\n",
       "               EBF     HF4 p4.1        HF491        HF691          HDR  \\\n",
       "count  1228.000000  1228.000000  1228.000000  1228.000000  1228.000000   \n",
       "mean      0.038274     0.024430     0.024430     0.036645     0.621336   \n",
       "std       0.191934     0.154443     0.154443     0.187965     0.485252   \n",
       "min       0.000000     0.000000     0.000000     0.000000     0.000000   \n",
       "25%       0.000000     0.000000     0.000000     0.000000     0.000000   \n",
       "50%       0.000000     0.000000     0.000000     0.000000     1.000000   \n",
       "75%       0.000000     0.000000     0.000000     0.000000     1.000000   \n",
       "max       1.000000     1.000000     1.000000     1.000000     1.000000   \n",
       "\n",
       "               LDR  \n",
       "count  1228.000000  \n",
       "mean      0.378664  \n",
       "std       0.485252  \n",
       "min       0.000000  \n",
       "25%       0.000000  \n",
       "50%       0.000000  \n",
       "75%       1.000000  \n",
       "max       1.000000  "
      ]
     },
     "execution_count": 2,
     "metadata": {},
     "output_type": "execute_result"
    }
   ],
   "source": [
    "dataset = pd.read_csv('complete_dataset_with_SF.csv')\n",
    "dataset.drop('Unnamed: 0', 1, inplace=True) \n",
    "dataset.dropna(inplace=True)\n",
    "dataset.reset_index(inplace=True, drop=True)\n",
    "\n",
    "Cell_line = dataset.pop(\"Cell Line\")\n",
    "Dose_Rate = dataset.pop(\"Dose Rate\")\n",
    "dataset['FIB10'] = (Cell_line=='FIB10') * 1\n",
    "dataset['Fib34(a)'] = (Cell_line=='Fib34(a)') * 1\n",
    "dataset['Fib34(b)'] = (Cell_line=='Fib34(b)') * 1\n",
    "dataset['Fib34(c)'] = (Cell_line=='Fib34(c)') * 1\n",
    "dataset['Fib31'] = (Cell_line=='Fib31') * 1\n",
    "dataset['FAN1'] = (Cell_line=='FAN1') * 1\n",
    "dataset['FAN2'] = (Cell_line=='FAN2') * 1\n",
    "dataset['G36'] = (Cell_line=='G36') * 1\n",
    "dataset['EBF'] = (Cell_line=='EBF') * 1\n",
    "dataset['HF4 p4.1'] = (Cell_line=='HF4 p4.1') * 1\n",
    "dataset['HF491'] = (Cell_line=='HF491') * 1\n",
    "dataset['HF691'] = (Cell_line=='HF691') * 1\n",
    "dataset['HDR'] = (Dose_Rate=='HDR') * 1\n",
    "dataset['LDR'] = (Dose_Rate=='LDR') * 1\n",
    "dataset.drop(['#Plated', 'PE', '#Counted'], 1, inplace=True)\n",
    "print(dataset.shape)\n",
    "dataset.describe()"
   ]
  },
  {
   "cell_type": "code",
   "execution_count": 3,
   "id": "4ea1b37d",
   "metadata": {},
   "outputs": [],
   "source": [
    "df_train_set = dataset.sample(frac=0.8, random_state=0)\n",
    "df_test_set = dataset.drop(df_train_set.index)\n",
    "\n",
    "train_labels = df_train_set.pop('SF')\n",
    "test_labels = df_test_set.pop('SF')\n",
    "\n",
    "train_labels = train_labels.to_numpy()\n",
    "test_labels = test_labels.to_numpy()\n",
    "train_labels = train_labels.reshape(-1,1)\n",
    "test_labels = test_labels.reshape(-1,1)"
   ]
  },
  {
   "cell_type": "code",
   "execution_count": 4,
   "id": "ce6df79e",
   "metadata": {},
   "outputs": [],
   "source": [
    "scaler = MinMaxScaler()\n",
    "train_set_norm = scaler.fit_transform(df_train_set)\n",
    "test_set_norm = scaler.fit_transform(df_test_set)\n",
    "train_labels_norm = scaler.fit_transform(train_labels)\n",
    "test_labels_norm = scaler.fit_transform(test_labels)"
   ]
  },
  {
   "cell_type": "markdown",
   "id": "f7917739",
   "metadata": {},
   "source": [
    "# Linear Regression"
   ]
  },
  {
   "cell_type": "code",
   "execution_count": 5,
   "id": "e5a2be85",
   "metadata": {},
   "outputs": [
    {
     "name": "stdout",
     "output_type": "stream",
     "text": [
      "Test MSE:  0.059984352850533586\n",
      "Test R2:  0.585935323220474\n"
     ]
    }
   ],
   "source": [
    "linr = LinearRegression()\n",
    "linr.fit(train_set_norm, train_labels_norm)\n",
    "\n",
    "linr_test_pred = scaler.inverse_transform(linr.predict(test_set_norm))\n",
    "\n",
    "print('Test MSE: ', mean_squared_error(test_labels,linr_test_pred))\n",
    "print('Test R2: ', r2_score(test_labels,linr_test_pred))\n"
   ]
  },
  {
   "cell_type": "markdown",
   "id": "e92dba65",
   "metadata": {},
   "source": [
    "# Ridge Regression"
   ]
  },
  {
   "cell_type": "code",
   "execution_count": 6,
   "id": "0c42aae3",
   "metadata": {},
   "outputs": [
    {
     "name": "stdout",
     "output_type": "stream",
     "text": [
      "Test MSE:  0.0602059594008422\n",
      "Test R2:  0.5844056002133023\n"
     ]
    }
   ],
   "source": [
    "ridger = Ridge(alpha=0.425)\n",
    "ridger.fit(train_set_norm, train_labels_norm)\n",
    "\n",
    "ridger_test_pred = scaler.inverse_transform(ridger.predict(test_set_norm))\n",
    "\n",
    "print('Test MSE: ', mean_squared_error(test_labels,ridger_test_pred))\n",
    "print('Test R2: ', r2_score(test_labels,ridger_test_pred))"
   ]
  },
  {
   "cell_type": "markdown",
   "id": "1bc2622f",
   "metadata": {},
   "source": [
    "# LASSO Regression"
   ]
  },
  {
   "cell_type": "code",
   "execution_count": 7,
   "id": "53ed2c6d",
   "metadata": {},
   "outputs": [
    {
     "name": "stdout",
     "output_type": "stream",
     "text": [
      "Test MSE:  0.06101012980440461\n",
      "Test R2:  0.5788545099305343\n"
     ]
    }
   ],
   "source": [
    "LASSOr = Ridge(alpha=0)\n",
    "LASSOr.fit(train_set_norm, train_labels_norm)\n",
    "\n",
    "LASSOr_test_pred = scaler.inverse_transform(LASSOr.predict(test_set_norm))\n",
    "\n",
    "print('Test MSE: ', mean_squared_error(test_labels,LASSOr_test_pred))\n",
    "print('Test R2: ', r2_score(test_labels,LASSOr_test_pred))"
   ]
  },
  {
   "cell_type": "markdown",
   "id": "06caeba4",
   "metadata": {},
   "source": [
    "# ElasticNet Regression"
   ]
  },
  {
   "cell_type": "code",
   "execution_count": 8,
   "id": "7aa34693",
   "metadata": {},
   "outputs": [
    {
     "name": "stdout",
     "output_type": "stream",
     "text": [
      "Test MSE:  0.060928275511501935\n",
      "Test R2:  0.5794195401379655\n"
     ]
    }
   ],
   "source": [
    "ENr = ElasticNet(alpha=0.001)\n",
    "ENr.fit(train_set_norm, train_labels_norm)\n",
    "\n",
    "ENr_test_pred = scaler.inverse_transform((ENr.predict(test_set_norm)).reshape(-1,1))\n",
    "\n",
    "print('Test MSE: ', mean_squared_error(test_labels,ENr_test_pred))\n",
    "print('Test R2: ', r2_score(test_labels,ENr_test_pred))"
   ]
  },
  {
   "cell_type": "code",
   "execution_count": 9,
   "id": "e39e0078",
   "metadata": {},
   "outputs": [
    {
     "data": {
      "image/png": "[encoded data removed]",
      "text/plain": [
       "<Figure size 576x396 with 1 Axes>"
      ]
     },
     "metadata": {},
     "output_type": "display_data"
    },
    {
     "data": {
      "text/plain": [
       "<AxesSubplot:title={'center':'Ridge Alpha Error'}, xlabel='alpha', ylabel='error (or score)'>"
      ]
     },
     "execution_count": 9,
     "metadata": {},
     "output_type": "execute_result"
    }
   ],
   "source": [
    "alphas = np.logspace(-10, 0.3, 400)\n",
    "visualizer = ManualAlphaSelection(\n",
    "    Ridge(),\n",
    "    alphas=alphas,\n",
    "    cv=12,\n",
    "    scoring=\"neg_mean_squared_error\"\n",
    ")\n",
    "visualizer.fit(train_set_norm, train_labels_norm)\n",
    "visualizer.show()"
   ]
  },
  {
   "cell_type": "code",
   "execution_count": 10,
   "id": "c5e26bbe",
   "metadata": {},
   "outputs": [
    {
     "name": "stderr",
     "output_type": "stream",
     "text": [
      "C:\\Users\\simon\\anaconda3\\envs\\tf-gpu\\lib\\site-packages\\sklearn\\utils\\validation.py:63: DataConversionWarning: A column-vector y was passed when a 1d array was expected. Please change the shape of y to (n_samples, ), for example using ravel().\n",
      "  return f(*args, **kwargs)\n"
     ]
    },
    {
     "data": {
      "image/png": "[encoded data removed]",
      "text/plain": [
       "<Figure size 576x396 with 1 Axes>"
      ]
     },
     "metadata": {},
     "output_type": "display_data"
    },
    {
     "data": {
      "text/plain": [
       "<AxesSubplot:title={'center':'LassoCV Alpha Error'}, xlabel='alpha', ylabel='error (or score)'>"
      ]
     },
     "execution_count": 10,
     "metadata": {},
     "output_type": "execute_result"
    }
   ],
   "source": [
    "model = LassoCV()\n",
    "visualizer = AlphaSelection(model)\n",
    "visualizer.fit(train_set_norm, train_labels_norm)\n",
    "visualizer.show()"
   ]
  },
  {
   "cell_type": "code",
   "execution_count": 11,
   "id": "e410edae",
   "metadata": {},
   "outputs": [
    {
     "name": "stderr",
     "output_type": "stream",
     "text": [
      "C:\\Users\\simon\\anaconda3\\envs\\tf-gpu\\lib\\site-packages\\sklearn\\utils\\validation.py:63: DataConversionWarning: A column-vector y was passed when a 1d array was expected. Please change the shape of y to (n_samples, ), for example using ravel().\n",
      "  return f(*args, **kwargs)\n"
     ]
    },
    {
     "data": {
      "image/png": "[encoded data removed]",
      "text/plain": [
       "<Figure size 576x396 with 1 Axes>"
      ]
     },
     "metadata": {},
     "output_type": "display_data"
    },
    {
     "data": {
      "text/plain": [
       "<AxesSubplot:title={'center':'ElasticNetCV Alpha Error'}, xlabel='alpha', ylabel='error (or score)'>"
      ]
     },
     "execution_count": 11,
     "metadata": {},
     "output_type": "execute_result"
    }
   ],
   "source": [
    "model = ElasticNetCV()\n",
    "visualizer = AlphaSelection(model)\n",
    "visualizer.fit(train_set_norm, train_labels_norm)\n",
    "visualizer.show()"
   ]
  },
  {
   "cell_type": "code",
   "execution_count": null,
   "id": "ad6d667c",
   "metadata": {},
   "outputs": [],
   "source": []
  }
 ],
 "metadata": {
  "kernelspec": {
   "display_name": "Python 3",
   "language": "python",
   "name": "python3"
  },
  "language_info": {
   "codemirror_mode": {
    "name": "ipython",
    "version": 3
   },
   "file_extension": ".py",
   "mimetype": "text/x-python",
   "name": "python",
   "nbconvert_exporter": "python",
   "pygments_lexer": "ipython3",
   "version": "3.8.8"
  }
 },
 "nbformat": 4,
 "nbformat_minor": 5
}
