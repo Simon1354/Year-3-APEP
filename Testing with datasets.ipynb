{
 "cells": [
  {
   "cell_type": "markdown",
   "metadata": {},
   "source": [
    "# File for testing on the datasets"
   ]
  },
  {
   "cell_type": "code",
   "execution_count": 1,
   "metadata": {},
   "outputs": [],
   "source": [
    "import pandas as pd\n",
    "import numpy as np\n",
    "import tensorflow as tf\n",
    "from tensorflow import keras\n",
    "from tensorflow.keras import layers\n",
    "import matplotlib.pyplot as plt\n",
    "import sklearn\n",
    "from sklearn.model_selection import train_test_split\n",
    "import seaborn as sns\n",
    "\n",
    "%matplotlib inline"
   ]
  },
  {
   "cell_type": "markdown",
   "metadata": {},
   "source": [
    "Retrive dataset"
   ]
  },
  {
   "cell_type": "code",
   "execution_count": 31,
   "metadata": {},
   "outputs": [
    {
     "data": {
      "text/html": [
       "<div>\n",
       "<style scoped>\n",
       "    .dataframe tbody tr th:only-of-type {\n",
       "        vertical-align: middle;\n",
       "    }\n",
       "\n",
       "    .dataframe tbody tr th {\n",
       "        vertical-align: top;\n",
       "    }\n",
       "\n",
       "    .dataframe thead th {\n",
       "        text-align: right;\n",
       "    }\n",
       "</style>\n",
       "<table border=\"1\" class=\"dataframe\">\n",
       "  <thead>\n",
       "    <tr style=\"text-align: right;\">\n",
       "      <th></th>\n",
       "      <th>Oxygen</th>\n",
       "      <th>Drug</th>\n",
       "      <th>Drug conc</th>\n",
       "      <th>Dose</th>\n",
       "      <th>#Plated</th>\n",
       "      <th>PE</th>\n",
       "      <th>#Counted</th>\n",
       "    </tr>\n",
       "  </thead>\n",
       "  <tbody>\n",
       "    <tr>\n",
       "      <th>count</th>\n",
       "      <td>1236.0</td>\n",
       "      <td>0.0</td>\n",
       "      <td>0.0</td>\n",
       "      <td>1236.000000</td>\n",
       "      <td>1236.000000</td>\n",
       "      <td>1236.000000</td>\n",
       "      <td>1228.000000</td>\n",
       "    </tr>\n",
       "    <tr>\n",
       "      <th>mean</th>\n",
       "      <td>21.0</td>\n",
       "      <td>NaN</td>\n",
       "      <td>NaN</td>\n",
       "      <td>3.648932</td>\n",
       "      <td>6793.106796</td>\n",
       "      <td>0.307294</td>\n",
       "      <td>34.537459</td>\n",
       "    </tr>\n",
       "    <tr>\n",
       "      <th>std</th>\n",
       "      <td>0.0</td>\n",
       "      <td>NaN</td>\n",
       "      <td>NaN</td>\n",
       "      <td>2.763909</td>\n",
       "      <td>8032.454648</td>\n",
       "      <td>0.173668</td>\n",
       "      <td>28.157597</td>\n",
       "    </tr>\n",
       "    <tr>\n",
       "      <th>min</th>\n",
       "      <td>21.0</td>\n",
       "      <td>NaN</td>\n",
       "      <td>NaN</td>\n",
       "      <td>0.000000</td>\n",
       "      <td>100.000000</td>\n",
       "      <td>0.040800</td>\n",
       "      <td>0.000000</td>\n",
       "    </tr>\n",
       "    <tr>\n",
       "      <th>25%</th>\n",
       "      <td>21.0</td>\n",
       "      <td>NaN</td>\n",
       "      <td>NaN</td>\n",
       "      <td>1.000000</td>\n",
       "      <td>500.000000</td>\n",
       "      <td>0.205000</td>\n",
       "      <td>10.000000</td>\n",
       "    </tr>\n",
       "    <tr>\n",
       "      <th>50%</th>\n",
       "      <td>21.0</td>\n",
       "      <td>NaN</td>\n",
       "      <td>NaN</td>\n",
       "      <td>3.030000</td>\n",
       "      <td>2000.000000</td>\n",
       "      <td>0.310000</td>\n",
       "      <td>28.000000</td>\n",
       "    </tr>\n",
       "    <tr>\n",
       "      <th>75%</th>\n",
       "      <td>21.0</td>\n",
       "      <td>NaN</td>\n",
       "      <td>NaN</td>\n",
       "      <td>6.000000</td>\n",
       "      <td>10000.000000</td>\n",
       "      <td>0.412000</td>\n",
       "      <td>53.000000</td>\n",
       "    </tr>\n",
       "    <tr>\n",
       "      <th>max</th>\n",
       "      <td>21.0</td>\n",
       "      <td>NaN</td>\n",
       "      <td>NaN</td>\n",
       "      <td>10.900000</td>\n",
       "      <td>20000.000000</td>\n",
       "      <td>0.710000</td>\n",
       "      <td>124.000000</td>\n",
       "    </tr>\n",
       "  </tbody>\n",
       "</table>\n",
       "</div>"
      ],
      "text/plain": [
       "       Oxygen  Drug  Drug conc         Dose       #Plated           PE  \\\n",
       "count  1236.0   0.0        0.0  1236.000000   1236.000000  1236.000000   \n",
       "mean     21.0   NaN        NaN     3.648932   6793.106796     0.307294   \n",
       "std       0.0   NaN        NaN     2.763909   8032.454648     0.173668   \n",
       "min      21.0   NaN        NaN     0.000000    100.000000     0.040800   \n",
       "25%      21.0   NaN        NaN     1.000000    500.000000     0.205000   \n",
       "50%      21.0   NaN        NaN     3.030000   2000.000000     0.310000   \n",
       "75%      21.0   NaN        NaN     6.000000  10000.000000     0.412000   \n",
       "max      21.0   NaN        NaN    10.900000  20000.000000     0.710000   \n",
       "\n",
       "          #Counted  \n",
       "count  1228.000000  \n",
       "mean     34.537459  \n",
       "std      28.157597  \n",
       "min       0.000000  \n",
       "25%      10.000000  \n",
       "50%      28.000000  \n",
       "75%      53.000000  \n",
       "max     124.000000  "
      ]
     },
     "execution_count": 31,
     "metadata": {},
     "output_type": "execute_result"
    }
   ],
   "source": [
    "complete_no_SF = pd.read_csv(\"Complete_dataset_without_SF2.csv\")\n",
    "complete_no_SF.describe()"
   ]
  },
  {
   "cell_type": "markdown",
   "metadata": {},
   "source": [
    "Imported full dataset, will now remove zero variance columns (Radiation Type, Oxygen, Drug, Drug conc)"
   ]
  },
  {
   "cell_type": "code",
   "execution_count": 3,
   "metadata": {},
   "outputs": [
    {
     "data": {
      "text/html": [
       "<div>\n",
       "<style scoped>\n",
       "    .dataframe tbody tr th:only-of-type {\n",
       "        vertical-align: middle;\n",
       "    }\n",
       "\n",
       "    .dataframe tbody tr th {\n",
       "        vertical-align: top;\n",
       "    }\n",
       "\n",
       "    .dataframe thead th {\n",
       "        text-align: right;\n",
       "    }\n",
       "</style>\n",
       "<table border=\"1\" class=\"dataframe\">\n",
       "  <thead>\n",
       "    <tr style=\"text-align: right;\">\n",
       "      <th></th>\n",
       "      <th>Cell Line</th>\n",
       "      <th>Dose Rate</th>\n",
       "      <th>Dose</th>\n",
       "      <th>#Plated</th>\n",
       "      <th>PE</th>\n",
       "      <th>#Counted</th>\n",
       "    </tr>\n",
       "  </thead>\n",
       "  <tbody>\n",
       "    <tr>\n",
       "      <th>0</th>\n",
       "      <td>FIB10</td>\n",
       "      <td>HDR</td>\n",
       "      <td>0.00</td>\n",
       "      <td>200</td>\n",
       "      <td>0.0883</td>\n",
       "      <td>18.0</td>\n",
       "    </tr>\n",
       "    <tr>\n",
       "      <th>1</th>\n",
       "      <td>FIB10</td>\n",
       "      <td>HDR</td>\n",
       "      <td>0.00</td>\n",
       "      <td>200</td>\n",
       "      <td>0.0883</td>\n",
       "      <td>16.0</td>\n",
       "    </tr>\n",
       "    <tr>\n",
       "      <th>2</th>\n",
       "      <td>FIB10</td>\n",
       "      <td>HDR</td>\n",
       "      <td>0.00</td>\n",
       "      <td>200</td>\n",
       "      <td>0.0883</td>\n",
       "      <td>19.0</td>\n",
       "    </tr>\n",
       "    <tr>\n",
       "      <th>3</th>\n",
       "      <td>FIB10</td>\n",
       "      <td>HDR</td>\n",
       "      <td>0.00</td>\n",
       "      <td>200</td>\n",
       "      <td>0.0883</td>\n",
       "      <td>28.0</td>\n",
       "    </tr>\n",
       "    <tr>\n",
       "      <th>4</th>\n",
       "      <td>FIB10</td>\n",
       "      <td>HDR</td>\n",
       "      <td>0.00</td>\n",
       "      <td>200</td>\n",
       "      <td>0.0883</td>\n",
       "      <td>23.0</td>\n",
       "    </tr>\n",
       "    <tr>\n",
       "      <th>5</th>\n",
       "      <td>FIB10</td>\n",
       "      <td>HDR</td>\n",
       "      <td>0.00</td>\n",
       "      <td>200</td>\n",
       "      <td>0.0883</td>\n",
       "      <td>16.0</td>\n",
       "    </tr>\n",
       "    <tr>\n",
       "      <th>6</th>\n",
       "      <td>FIB10</td>\n",
       "      <td>HDR</td>\n",
       "      <td>0.00</td>\n",
       "      <td>200</td>\n",
       "      <td>0.0883</td>\n",
       "      <td>23.0</td>\n",
       "    </tr>\n",
       "    <tr>\n",
       "      <th>7</th>\n",
       "      <td>FIB10</td>\n",
       "      <td>HDR</td>\n",
       "      <td>0.00</td>\n",
       "      <td>200</td>\n",
       "      <td>0.0883</td>\n",
       "      <td>19.0</td>\n",
       "    </tr>\n",
       "    <tr>\n",
       "      <th>8</th>\n",
       "      <td>FIB10</td>\n",
       "      <td>HDR</td>\n",
       "      <td>0.00</td>\n",
       "      <td>200</td>\n",
       "      <td>0.0883</td>\n",
       "      <td>19.0</td>\n",
       "    </tr>\n",
       "    <tr>\n",
       "      <th>9</th>\n",
       "      <td>FIB10</td>\n",
       "      <td>HDR</td>\n",
       "      <td>0.96</td>\n",
       "      <td>500</td>\n",
       "      <td>0.0883</td>\n",
       "      <td>28.0</td>\n",
       "    </tr>\n",
       "  </tbody>\n",
       "</table>\n",
       "</div>"
      ],
      "text/plain": [
       "  Cell Line Dose Rate  Dose  #Plated      PE  #Counted\n",
       "0     FIB10       HDR  0.00      200  0.0883      18.0\n",
       "1     FIB10       HDR  0.00      200  0.0883      16.0\n",
       "2     FIB10       HDR  0.00      200  0.0883      19.0\n",
       "3     FIB10       HDR  0.00      200  0.0883      28.0\n",
       "4     FIB10       HDR  0.00      200  0.0883      23.0\n",
       "5     FIB10       HDR  0.00      200  0.0883      16.0\n",
       "6     FIB10       HDR  0.00      200  0.0883      23.0\n",
       "7     FIB10       HDR  0.00      200  0.0883      19.0\n",
       "8     FIB10       HDR  0.00      200  0.0883      19.0\n",
       "9     FIB10       HDR  0.96      500  0.0883      28.0"
      ]
     },
     "execution_count": 3,
     "metadata": {},
     "output_type": "execute_result"
    }
   ],
   "source": [
    "complete_no_SF_drop_col = complete_no_SF.drop(['Radiation Type', 'Oxygen', 'Drug', 'Drug conc'], 1)\n",
    "complete_no_SF_drop_col.head(10)"
   ]
  },
  {
   "cell_type": "markdown",
   "metadata": {},
   "source": [
    "Generating SF values"
   ]
  },
  {
   "cell_type": "code",
   "execution_count": 4,
   "metadata": {},
   "outputs": [],
   "source": [
    "complete_dataset_with_SF = complete_no_SF_drop_col\n",
    "complete_dataset_with_SF['SF'] = complete_dataset_with_SF.loc[:, \"#Counted\"] / (complete_dataset_with_SF.loc[:, 'PE'] * complete_dataset_with_SF.loc[:, \"#Plated\"])\n",
    "complete_dataset_with_SF.head(10)\n",
    "complete_dataset_with_SF.to_csv(\"complete_dataset_with_SF2.csv\")"
   ]
  },
  {
   "cell_type": "markdown",
   "metadata": {},
   "source": [
    "Producing seperate dataframes for each cell line so I can produce graphs"
   ]
  },
  {
   "cell_type": "code",
   "execution_count": 5,
   "metadata": {},
   "outputs": [
    {
     "data": {
      "image/png": "[encoded data removed]",
      "text/plain": [
       "<Figure size 1080x720 with 1 Axes>"
      ]
     },
     "metadata": {
      "needs_background": "light"
     },
     "output_type": "display_data"
    }
   ],
   "source": [
    "FIB10_data = complete_dataset_with_SF.loc[complete_dataset_with_SF['Cell Line'] == 'FIB10']\n",
    "Fib34a_data = complete_dataset_with_SF.loc[complete_dataset_with_SF['Cell Line'] == 'Fib34(a)']\n",
    "Fib34b_data = complete_dataset_with_SF.loc[complete_dataset_with_SF['Cell Line'] == 'Fib34(b)']\n",
    "Fib34c_data = complete_dataset_with_SF.loc[complete_dataset_with_SF['Cell Line'] == 'Fib34(c)']\n",
    "FAN1_data = complete_dataset_with_SF.loc[complete_dataset_with_SF['Cell Line'] == 'FAN1']\n",
    "FAN2_data = complete_dataset_with_SF.loc[complete_dataset_with_SF['Cell Line'] == 'FAN2']\n",
    "G36_data = complete_dataset_with_SF.loc[complete_dataset_with_SF['Cell Line'] == 'G36']\n",
    "EBF_data = complete_dataset_with_SF.loc[complete_dataset_with_SF['Cell Line'] == 'EBF']\n",
    "HF4p4_1_data = complete_dataset_with_SF.loc[complete_dataset_with_SF['Cell Line'] == 'HF4 p4.1']\n",
    "HF491_data = complete_dataset_with_SF.loc[complete_dataset_with_SF['Cell Line'] == 'HF491']\n",
    "HF691_data = complete_dataset_with_SF.loc[complete_dataset_with_SF['Cell Line'] == 'HF691']\n",
    "fib31_data = complete_dataset_with_SF.loc[complete_dataset_with_SF['Cell Line'] == 'Fib31']\n",
    "graph = plt.gcf()\n",
    "graph.set_size_inches(15,10)\n",
    "graph = sns.scatterplot(x='Dose', y='SF', data=complete_dataset_with_SF, hue='Cell Line').set(title='Graph Showing Dose vs SF')"
   ]
  },
  {
   "cell_type": "markdown",
   "metadata": {},
   "source": [
    "Generating histogram to show distribution of controls"
   ]
  },
  {
   "cell_type": "code",
   "execution_count": 9,
   "metadata": {},
   "outputs": [
    {
     "data": {
      "text/html": [
       "<div>\n",
       "<style scoped>\n",
       "    .dataframe tbody tr th:only-of-type {\n",
       "        vertical-align: middle;\n",
       "    }\n",
       "\n",
       "    .dataframe tbody tr th {\n",
       "        vertical-align: top;\n",
       "    }\n",
       "\n",
       "    .dataframe thead th {\n",
       "        text-align: right;\n",
       "    }\n",
       "</style>\n",
       "<table border=\"1\" class=\"dataframe\">\n",
       "  <thead>\n",
       "    <tr style=\"text-align: right;\">\n",
       "      <th></th>\n",
       "      <th>Cell Line</th>\n",
       "      <th>Dose</th>\n",
       "      <th>SF</th>\n",
       "    </tr>\n",
       "  </thead>\n",
       "  <tbody>\n",
       "    <tr>\n",
       "      <th>0</th>\n",
       "      <td>FIB10</td>\n",
       "      <td>0.0</td>\n",
       "      <td>1.019253</td>\n",
       "    </tr>\n",
       "    <tr>\n",
       "      <th>1</th>\n",
       "      <td>FIB10</td>\n",
       "      <td>0.0</td>\n",
       "      <td>0.906002</td>\n",
       "    </tr>\n",
       "    <tr>\n",
       "      <th>2</th>\n",
       "      <td>FIB10</td>\n",
       "      <td>0.0</td>\n",
       "      <td>1.075878</td>\n",
       "    </tr>\n",
       "    <tr>\n",
       "      <th>3</th>\n",
       "      <td>FIB10</td>\n",
       "      <td>0.0</td>\n",
       "      <td>1.585504</td>\n",
       "    </tr>\n",
       "    <tr>\n",
       "      <th>4</th>\n",
       "      <td>FIB10</td>\n",
       "      <td>0.0</td>\n",
       "      <td>1.302378</td>\n",
       "    </tr>\n",
       "    <tr>\n",
       "      <th>...</th>\n",
       "      <td>...</td>\n",
       "      <td>...</td>\n",
       "      <td>...</td>\n",
       "    </tr>\n",
       "    <tr>\n",
       "      <th>1207</th>\n",
       "      <td>Fib34(b)</td>\n",
       "      <td>0.0</td>\n",
       "      <td>0.965301</td>\n",
       "    </tr>\n",
       "    <tr>\n",
       "      <th>1208</th>\n",
       "      <td>Fib34(b)</td>\n",
       "      <td>0.0</td>\n",
       "      <td>0.978346</td>\n",
       "    </tr>\n",
       "    <tr>\n",
       "      <th>1209</th>\n",
       "      <td>Fib34(b)</td>\n",
       "      <td>0.0</td>\n",
       "      <td>0.952257</td>\n",
       "    </tr>\n",
       "    <tr>\n",
       "      <th>1210</th>\n",
       "      <td>Fib34(b)</td>\n",
       "      <td>0.0</td>\n",
       "      <td>1.069658</td>\n",
       "    </tr>\n",
       "    <tr>\n",
       "      <th>1211</th>\n",
       "      <td>Fib34(b)</td>\n",
       "      <td>0.0</td>\n",
       "      <td>1.134881</td>\n",
       "    </tr>\n",
       "  </tbody>\n",
       "</table>\n",
       "<p>228 rows × 3 columns</p>\n",
       "</div>"
      ],
      "text/plain": [
       "     Cell Line  Dose        SF\n",
       "0        FIB10   0.0  1.019253\n",
       "1        FIB10   0.0  0.906002\n",
       "2        FIB10   0.0  1.075878\n",
       "3        FIB10   0.0  1.585504\n",
       "4        FIB10   0.0  1.302378\n",
       "...        ...   ...       ...\n",
       "1207  Fib34(b)   0.0  0.965301\n",
       "1208  Fib34(b)   0.0  0.978346\n",
       "1209  Fib34(b)   0.0  0.952257\n",
       "1210  Fib34(b)   0.0  1.069658\n",
       "1211  Fib34(b)   0.0  1.134881\n",
       "\n",
       "[228 rows x 3 columns]"
      ]
     },
     "execution_count": 9,
     "metadata": {},
     "output_type": "execute_result"
    }
   ],
   "source": [
    "controls = complete_dataset_with_SF[complete_dataset_with_SF['Dose'] == 0]\n",
    "controls2 = controls.drop(['#Plated', 'PE', '#Counted', 'Dose Rate'], axis=1)\n",
    "controls2"
   ]
  },
  {
   "cell_type": "code",
   "execution_count": 29,
   "metadata": {},
   "outputs": [
    {
     "data": {
      "text/plain": [
       "<AxesSubplot:xlabel='SF', ylabel='Count'>"
      ]
     },
     "execution_count": 29,
     "metadata": {},
     "output_type": "execute_result"
    },
    {
     "data": {
      "image/png": "[encoded data removed]",
      "text/plain": [
       "<Figure size 432x288 with 1 Axes>"
      ]
     },
     "metadata": {
      "needs_background": "light"
     },
     "output_type": "display_data"
    }
   ],
   "source": [
    "sns.histplot(x=controls2['SF'], kde=True)"
   ]
  },
  {
   "cell_type": "markdown",
   "metadata": {},
   "source": [
    "Performing shapiro-wilk test for normality"
   ]
  },
  {
   "cell_type": "code",
   "execution_count": 26,
   "metadata": {},
   "outputs": [
    {
     "name": "stdout",
     "output_type": "stream",
     "text": [
      "Statistics=0.905, p=0.000\n",
      "Sample does not look Gaussian (reject H0)\n"
     ]
    }
   ],
   "source": [
    "from scipy.stats import shapiro\n",
    "\n",
    "data = controls2['SF']\n",
    "data.dropna(inplace=True)\n",
    "data1 = data.to_numpy()\n",
    "stat, p = shapiro(data)\n",
    "\n",
    "print('Statistics=%.3f, p=%.3f' % (stat, p))\n",
    "# interpret\n",
    "alpha = 0.\n",
    "if p > alpha:\n",
    "    print('Sample looks Gaussian (fail to reject H0)')\n",
    "else:\n",
    "    print('Sample does not look Gaussian (reject H0)')"
   ]
  },
  {
   "cell_type": "markdown",
   "metadata": {},
   "source": [
    "Histogram appears to show Gaussian distribution, I expect the sahpiro-wilk test is being affected by outliers"
   ]
  }
 ],
 "metadata": {
  "kernelspec": {
   "display_name": "Python 3",
   "language": "python",
   "name": "python3"
  },
  "language_info": {
   "codemirror_mode": {
    "name": "ipython",
    "version": 3
   },
   "file_extension": ".py",
   "mimetype": "text/x-python",
   "name": "python",
   "nbconvert_exporter": "python",
   "pygments_lexer": "ipython3",
   "version": "3.8.8"
  }
 },
 "nbformat": 4,
 "nbformat_minor": 4
}
